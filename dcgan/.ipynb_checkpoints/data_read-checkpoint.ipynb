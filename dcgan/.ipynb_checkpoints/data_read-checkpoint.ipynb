{
 "cells": [
  {
   "cell_type": "code",
   "execution_count": 23,
   "metadata": {},
   "outputs": [],
   "source": [
    "import cv2\n",
    "import os\n",
    "import numpy as np\n",
    "import random\n",
    "import time\n",
    "\n",
    "class reader:\n",
    "    def __init__(self, dir_name, batch_size, resize):\n",
    "        self.dir_name = dir_name\n",
    "        self.batch_size = batch_size\n",
    "        #file list\n",
    "        self.file_list = os.listdir(self.dir_name)\n",
    "        #total batch num\n",
    "        self.leng = len(self.file_list)\n",
    "        self.total_batch = self.leng // self.batch_size\n",
    "        #index\n",
    "        self.index = 0\n",
    "        #shuffle\n",
    "        np.random.shuffle(self.file_list)\n",
    "        \n",
    "    \n",
    "    def getList(self):\n",
    "        return self.file_list\n",
    "    \n",
    "    def getTotalNum(self):\n",
    "        return len(self.file_list)\n",
    "    \n",
    "    def next_batch(self):\n",
    "        if self.index == self.total_batch:\n",
    "            np.random.shuffle(self.file_list)\n",
    "            self.index = 0\n",
    "        \n",
    "        #image random choice\n",
    "        batch = []\n",
    "        \n",
    "        file_list_batch = self.file_list[self.index*self.batch_size:(self.index+1)*self.batch_size]\n",
    "        self.index += 1\n",
    "        \n",
    "        start = time.time()\n",
    "        \n",
    "        #6331번\n",
    "        for file_name in file_list_batch:\n",
    "                dir_n = self.dir_name + file_name\n",
    "                img = cv2.imread(dir_n,  cv2.IMREAD_COLOR)\n",
    "                res = cv2.resize(img,(64,64), interpolation = cv2.INTER_AREA)\n",
    "                batch.append(res)\n",
    "        \n",
    "        end = time.time()\n",
    "        \n",
    "        print(start-end)\n",
    "        \n",
    "        return np.array(batch)"
   ]
  },
  {
   "cell_type": "code",
   "execution_count": null,
   "metadata": {},
   "outputs": [],
   "source": []
  }
 ],
 "metadata": {
  "kernelspec": {
   "display_name": "Python 3",
   "language": "python",
   "name": "python3"
  },
  "language_info": {
   "codemirror_mode": {
    "name": "ipython",
    "version": 3
   },
   "file_extension": ".py",
   "mimetype": "text/x-python",
   "name": "python",
   "nbconvert_exporter": "python",
   "pygments_lexer": "ipython3",
   "version": "3.5.3"
  }
 },
 "nbformat": 4,
 "nbformat_minor": 2
}
