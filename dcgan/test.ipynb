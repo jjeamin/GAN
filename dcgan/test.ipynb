{
 "cells": [
  {
   "cell_type": "code",
   "execution_count": null,
   "metadata": {},
   "outputs": [],
   "source": [
    "#test code\n",
    "# Generate images from noise, using the generator network.\n",
    "f, a = plt.subplots(4, 10, figsize=(10, 4))\n",
    "for i in range(10):\n",
    "    # Noise input.\n",
    "    z = np.random.uniform(-1., 1., size=[4, noise_dim])\n",
    "    g = sess.run(gen_sample, feed_dict={noise_input: z})\n",
    "    for j in range(4):\n",
    "        # Generate image from noise. Extend to 3 channels for matplot figure.\n",
    "        img = np.reshape(np.repeat(g[j][:, :, np.newaxis], 3, axis=2),\n",
    "                         newshape=(28, 28, 3))\n",
    "        a[j][i].imshow(img)"
   ]
  },
  {
   "cell_type": "code",
   "execution_count": null,
   "metadata": {},
   "outputs": [],
   "source": [
    "#test code\n",
    "if step == 0 or (step + 1) % 10 == 0:\n",
    "    generated_samples = model.sample_generator(noise_test, batch_size=visualization_num)\n",
    "    savepath = output_dir + '/output_' + 'EP' + str(epoch).zfill(3) + \"_Batch\" + str(step).zfill(6) + '.jpg'\n",
    "    save_visualization(generated_samples, (14, 14), save_path=savepath)"
   ]
  },
  {
   "cell_type": "code",
   "execution_count": null,
   "metadata": {},
   "outputs": [],
   "source": [
    "def save_visualization(X, nh_nw, save_path='./vis/sample.jpg'):\n",
    "    nh, nw = nh_nw\n",
    "    h, w = X.shape[1], X.shape[2]\n",
    "    img = np.zeros((h * nh, w * nw, 3))\n",
    "\n",
    "    for n, x in enumerate(X):\n",
    "        j = int(n / nw)\n",
    "        i = int(n % nw)\n",
    "        img[j * h:j * h + h, i * w:i * w + w, :] = x\n",
    "\n",
    "    cv2.imwrite(save_path, img)"
   ]
  },
  {
   "cell_type": "code",
   "execution_count": null,
   "metadata": {},
   "outputs": [],
   "source": [
    "def sample_generator(self, noise_z, batch_size=1):\n",
    "        noise_z = np.array(noise_z).reshape([batch_size, self.dim_z])\n",
    "\n",
    "        Z = tf.placeholder(tf.float32, [batch_size, self.dim_z])\n",
    "        h1 = tf.reshape(Z, [batch_size, 1, 1, self.dim_z])\n",
    "        h1 = tf.nn.conv2d_transpose(h1, self.G_W1, output_shape=[batch_size, 4, 4, self.dim_W1],\n",
    "                                    strides=[1, 4, 4, 1])\n",
    "        h1 = tf.nn.relu(self.G_bn1(h1))\n",
    "\n",
    "        output_shape_l2 = [batch_size, 8, 8, self.dim_W2]\n",
    "        h2 = tf.nn.conv2d_transpose(h1, self.G_W2, output_shape=output_shape_l2, strides=[1, 2, 2, 1])\n",
    "        h2 = tf.nn.relu(self.G_bn2(h2))\n",
    "\n",
    "        output_shape_l3 = [batch_size, 16, 16, self.dim_W3]\n",
    "        h3 = tf.nn.conv2d_transpose(h2, self.G_W3, output_shape=output_shape_l3, strides=[1, 2, 2, 1])\n",
    "        h3 = tf.nn.relu(self.G_bn3(h3))\n",
    "\n",
    "        output_shape_l4 = [batch_size, 32, 32, self.dim_W4]\n",
    "        h4 = tf.nn.conv2d_transpose(h3, self.G_W4, output_shape=output_shape_l4, strides=[1, 2, 2, 1])\n",
    "        h4 = tf.nn.relu(self.G_bn4(h4))\n",
    "\n",
    "        output_shape_l5 = [batch_size, 64, 64, self.dim_W5]\n",
    "        h5 = tf.nn.conv2d_transpose(h4, self.G_W5, output_shape=output_shape_l5, strides=[1, 2, 2, 1])\n",
    "\n",
    "        x = tf.nn.tanh(h5)\n",
    "\n",
    "        generated_samples = self.sess.run(x, feed_dict={Z: noise_z})\n",
    "        generated_samples = (generated_samples + 1.) / 2.\n",
    "        return generated_samples\n"
   ]
  }
 ],
 "metadata": {
  "kernelspec": {
   "display_name": "Python 3",
   "language": "python",
   "name": "python3"
  },
  "language_info": {
   "codemirror_mode": {
    "name": "ipython",
    "version": 3
   },
   "file_extension": ".py",
   "mimetype": "text/x-python",
   "name": "python",
   "nbconvert_exporter": "python",
   "pygments_lexer": "ipython3",
   "version": "3.5.3"
  }
 },
 "nbformat": 4,
 "nbformat_minor": 2
}
